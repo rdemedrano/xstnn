{
 "cells": [
  {
   "cell_type": "code",
   "execution_count": null,
   "metadata": {},
   "outputs": [],
   "source": [
    "import os\n",
    "import json\n",
    "\n",
    "import torch\n",
    "\n",
    "from xstnn import xSpatioTemporalNN\n",
    "from utils import rmse\n",
    "from datasets import dataset_factory\n",
    "\n",
    "import matplotlib.pyplot as plt\n",
    "%matplotlib inline"
   ]
  },
  {
   "cell_type": "code",
   "execution_count": null,
   "metadata": {
    "scrolled": true
   },
   "outputs": [],
   "source": [
    "datadir = 'data'\n",
    "dataset = 'crash'\n",
    "_, (train_data, test_data), _ , _ = dataset_factory(datadir, dataset)\n",
    "\n",
    "plt.figure('Car crash frecuency Dataset')\n",
    "plt.imshow(torch.cat((train_data, test_data)).squeeze().numpy().T, aspect='auto', cmap='jet')\n",
    "plt.title('Car crash frecuency Dataset')\n",
    "plt.xlabel('timestep')\n",
    "plt.colorbar()"
   ]
  },
  {
   "cell_type": "code",
   "execution_count": null,
   "metadata": {
    "scrolled": true
   },
   "outputs": [],
   "source": [
    "run train_xstnn.py --dataset crash --outputdir output_crash --manualSeed 2021 --xp stnn --nepoch 10000"
   ]
  },
  {
   "cell_type": "code",
   "execution_count": null,
   "metadata": {},
   "outputs": [],
   "source": [
    "outputdir  = 'output_crash'\n",
    "exps = ['xstnn']\n",
    "models = {}\n",
    "for exp in exps:\n",
    "    with open(os.path.join(outputdir, exp, 'config.json'), 'r') as f:\n",
    "        config = json.load(f)\n",
    "    setup, (train_data, test_data), relations, (exogenous_train, exogenous_test) = dataset_factory(datadir, dataset, config['khop'])\n",
    "\n",
    "    model = xSpatioTemporalNN(relations, exogenous_train, 131, 1080, 8, 1, config['nz'], config['mode'], config['nhid'],\n",
    "                             config['nlayers'], config['dropout_f'], config['dropout_d'],\n",
    "                             config['activation'], config['periode'])\n",
    "    state_dict = torch.load(os.path.join(outputdir, exp, 'model.pt'), map_location=lambda storage, loc: storage)\n",
    "    model.load_state_dict(state_dict)\n",
    "    models[exp] = model"
   ]
  },
  {
   "cell_type": "code",
   "execution_count": null,
   "metadata": {},
   "outputs": [],
   "source": [
    "predictions  = {}\n",
    "for exp in exps:\n",
    "    model = models[exp]\n",
    "    model.eval()\n",
    "    with torch.no_grad():\n",
    "        prediction, _ = model.generate(5, exogenous_train)\n",
    "        predictions[exp] = prediction\n",
    "        mse =  rmse(prediction, test_data)\n",
    "    print('RMSE {}:\\t'.format(exp), mse)"
   ]
  },
  {
   "cell_type": "code",
   "execution_count": null,
   "metadata": {},
   "outputs": [],
   "source": [
    "plt.figure('Test plots', figsize=(17, 4), dpi=90)\n",
    "for exp in exps:\n",
    "    with open(os.path.join(outputdir, exp, 'logs.json'), 'r') as f:\n",
    "        logs = json.load(f)\n",
    "\n",
    "    plt.plot([logs['test_epoch.ts.{}.rmse'.format(ts)][-1] for ts in range(5)], label=exp, alpha=0.8)\n",
    "\n",
    "plt.grid()\n",
    "plt.title('Prediction RMSE')\n",
    "plt.xlabel('timestep')\n",
    "plt.legend()"
   ]
  },
  {
   "cell_type": "code",
   "execution_count": null,
   "metadata": {},
   "outputs": [],
   "source": [
    "plt.figure('Results', figsize=(17, 12), dpi=70)\n",
    "\n",
    "plt.subplot(3, 3, 1)\n",
    "plt.imshow(test_data.squeeze().numpy().T, aspect='auto', cmap='jet')\n",
    "plt.colorbar()\n",
    "plt.title('ground truth')\n",
    "\n",
    "for i, exp in enumerate(exps):\n",
    "    plt.subplot(3, 3, i * 3 + 2 + i // 3)\n",
    "    plt.imshow(predictions[exp].squeeze().numpy().T, aspect='auto', cmap='jet')\n",
    "    plt.colorbar()\n",
    "    plt.title('{} prediction'.format(exp))\n",
    "\n",
    "    plt.subplot(3, 3, i * 3 + 3 + i // 3)\n",
    "    plt.imshow(test_data.sub(predictions[exp]).abs().squeeze().numpy().T, aspect='auto')\n",
    "    plt.colorbar()\n",
    "    plt.title('{} absolute error'.format(exp))\n",
    "    \n",
    "#plt.savefig('resultados2.png' ,dpi = 400)"
   ]
  },
  {
   "cell_type": "code",
   "execution_count": null,
   "metadata": {},
   "outputs": [],
   "source": []
  }
 ],
 "metadata": {
  "kernelspec": {
   "display_name": "Python 3",
   "language": "python",
   "name": "python3"
  },
  "language_info": {
   "codemirror_mode": {
    "name": "ipython",
    "version": 3
   },
   "file_extension": ".py",
   "mimetype": "text/x-python",
   "name": "python",
   "nbconvert_exporter": "python",
   "pygments_lexer": "ipython3",
   "version": "3.6.8"
  }
 },
 "nbformat": 4,
 "nbformat_minor": 2
}
